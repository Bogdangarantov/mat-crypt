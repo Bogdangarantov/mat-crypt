{
 "cells": [
  {
   "cell_type": "code",
   "execution_count": 14,
   "metadata": {
    "collapsed": true
   },
   "outputs": [],
   "source": [
    "import random\n",
    "import numpy as np\n",
    "from KupynaRealization import KupynaRealization\n",
    "random.seed(48792357293)\n"
   ]
  },
  {
   "cell_type": "code",
   "execution_count": 15,
   "outputs": [],
   "source": [
    "def modify_single_bit(b):\n",
    "    b[random.randint(0, len(b) - 1)] ^= 1 << random.randint(0, 7)\n",
    "    return b\n",
    "\n",
    "\n",
    "def hash_difference(h1, h2):\n",
    "    return sum((x ^ y).bit_count() for x, y in zip(h1, h2))"
   ],
   "metadata": {
    "collapsed": false
   }
  },
  {
   "cell_type": "code",
   "execution_count": 16,
   "outputs": [],
   "source": [
    "k = KupynaRealization(512)\n",
    "\n",
    "N = 128\n",
    "trials = 10\n",
    "sample = []\n",
    "\n",
    "alphabet = list(map(chr, range(ord(\"A\"), ord(\"я\")))) + [\"і\", \"ї\", \"є\"]\n"
   ],
   "metadata": {
    "collapsed": false
   }
  },
  {
   "cell_type": "code",
   "execution_count": 17,
   "outputs": [],
   "source": [
    "def randomLetter():\n",
    "    return alphabet[random.randint(0, len(alphabet) - 1)]"
   ],
   "metadata": {
    "collapsed": false
   }
  },
  {
   "cell_type": "code",
   "execution_count": 18,
   "outputs": [],
   "source": [
    "for x in range(trials):\n",
    "    b = bytearray(\"\".join([randomLetter() for _ in range(N)]).encode(\"utf8\"))\n",
    "    hash_b = k.messageHashing(b)\n",
    "    b = modify_single_bit(b)\n",
    "    hash_b1 = k.messageHashing(b)\n",
    "    diff = hash_difference(hash_b, hash_b1)\n",
    "    sample.append(diff)\n",
    "sample = np.array(sample)"
   ],
   "metadata": {
    "collapsed": false
   }
  },
  {
   "cell_type": "code",
   "execution_count": 19,
   "outputs": [
    {
     "name": "stdout",
     "output_type": "stream",
     "text": [
      "\n",
      "Довжина Хешу: 512\n",
      "Довжина повідомлення в бітах: 1024\n",
      "(Середнє(std)) Бітові зміни для модифікації одного вхідного біта: 251.7\n",
      "(Розбіжність(std)) Бітові зміни для модифікації одного вхідного біта: 8.000624975587845\n"
     ]
    }
   ],
   "source": [
    "print()\n",
    "print(f\"Довжина Хешу: {k.N}\")\n",
    "print(f\"Довжина повідомлення в бітах: {(N * 8)}\")\n",
    "print(f\"(Середнє(std)) Бітові зміни для модифікації одного вхідного біта: {sample.mean()}\")\n",
    "print(f\"(Розбіжність(std)) Бітові зміни для модифікації одного вхідного біта: {sample.std()}\")"
   ],
   "metadata": {
    "collapsed": false
   }
  }
 ],
 "metadata": {
  "kernelspec": {
   "display_name": "Python 3",
   "language": "python",
   "name": "python3"
  },
  "language_info": {
   "codemirror_mode": {
    "name": "ipython",
    "version": 2
   },
   "file_extension": ".py",
   "mimetype": "text/x-python",
   "name": "python",
   "nbconvert_exporter": "python",
   "pygments_lexer": "ipython2",
   "version": "2.7.6"
  }
 },
 "nbformat": 4,
 "nbformat_minor": 0
}
